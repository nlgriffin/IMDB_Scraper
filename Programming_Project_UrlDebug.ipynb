{
 "cells": [
  {
   "cell_type": "code",
   "execution_count": 2,
   "metadata": {},
   "outputs": [],
   "source": [
    "#Import relevant libraries\n",
    "import urllib.request, urllib.parse, urllib.error\n",
    "from bs4 import BeautifulSoup\n",
    "import requests\n",
    "from time import sleep\n",
    "from random import randint\n",
    "import pandas as pd"
   ]
  },
  {
   "cell_type": "markdown",
   "metadata": {},
   "source": [
    "### Note that the below function is now finalized and should work on any search\n",
    "#### Note to self: we should pull a title of what the search is?"
   ]
  },
  {
   "cell_type": "code",
   "execution_count": 3,
   "metadata": {},
   "outputs": [],
   "source": [
    "#Writing a single function to extract all title urls from an IMDB search\n",
    "def url_extractor(search_url):\n",
    "    #setting up initial BeautifulSoup object from websearch \n",
    "    init_resp = urllib.request.urlopen(search_url)\n",
    "    init_soup = BeautifulSoup(init_resp, 'html.parser')\n",
    "    #extract the number of films that the query returned. Used to confirm at end and generate each url \n",
    "    number_of_films = int(str(init_soup.find_all('div', class_='desc')[0].find_all('span')[0]).split(' ')[2].replace(',',''))\n",
    "    print(number_of_films)\n",
    "    #each page has 50 movies, so setting up a list to iterate through the pages, set up blank list to store final urls\n",
    "    iterative_urls = [i for i in range(1,number_of_films, 50)]\n",
    "    url_list = []\n",
    "    #loop through the 50-spaced interger values to generate entire list of needed search urls \n",
    "    for i in iterative_urls:\n",
    "        # set url\n",
    "        url = search_url + '&start=' + str(i)\n",
    "        #set up the BeautifulSoup object for this specific page of the search\n",
    "        resp = urllib.request.urlopen(url)\n",
    "        soup = BeautifulSoup(resp, 'html.parser')\n",
    "        #generating list of all links on this page\n",
    "        links = [a.get('href') for a in soup.find_all('a', href=True)]\n",
    "        # printing out where we are in the query to monitor efficiency\n",
    "        print('Running query from {} to {}'.format(i, i+49))\n",
    "        # checking each link in each search page for title/tt keyword\n",
    "        for link in links:\n",
    "            if 'title/tt' in link:\n",
    "                #when the length is 4 of the split title url, that means it is part of query \n",
    "                #when the length is 3, it means that the movie is ancillary to the actual search\n",
    "                if len(link.split('/')) == 4:\n",
    "                # format the resulting url in the correct manner and appending it to final list \n",
    "                    title_link = 'https://www.imdb.com' + '/' + link.split('/')[1] + '/' + link.split('/')[2]\n",
    "                    if not title_link in url_list:\n",
    "                        url_list.append(title_link)\n",
    "                    else: \n",
    "                        continue \n",
    "                else: \n",
    "                    continue\n",
    "            else:\n",
    "                continue\n",
    "    # Final test to make sure that the length of query equals the length of returned list and returning the final list\n",
    "    if len(url_list) == number_of_films:\n",
    "        print('All urls have been extracted successfully')\n",
    "    else: \n",
    "        print('WARNING: The number of films in this query was {}, but {} urls were returned'.format(number_of_films, len(url_list)))\n",
    "    return(url_list)"
   ]
  },
  {
   "cell_type": "markdown",
   "metadata": {},
   "source": [
    "### Running a test dataset with the 480 length url above. Note that the number of urls and the length of the query are off by 1. "
   ]
  },
  {
   "cell_type": "code",
   "execution_count": 4,
   "metadata": {},
   "outputs": [
    {
     "name": "stdout",
     "output_type": "stream",
     "text": [
      "480\n",
      "Running query from 1 to 50\n",
      "Running query from 51 to 100\n",
      "Running query from 101 to 150\n",
      "Running query from 151 to 200\n",
      "Running query from 201 to 250\n",
      "Running query from 251 to 300\n",
      "Running query from 301 to 350\n",
      "Running query from 351 to 400\n",
      "Running query from 401 to 450\n",
      "Running query from 451 to 500\n",
      "All urls have been extracted successfully\n"
     ]
    }
   ],
   "source": [
    "urls = url_extractor('https://www.imdb.com/search/title/?title_type=feature&release_date=2019-01-01,2019-01-24')"
   ]
  },
  {
   "cell_type": "markdown",
   "metadata": {},
   "source": [
    "### Looked at the first and last movie, and both matched query. Now going page by page to check the first entry to see what is going wrong."
   ]
  },
  {
   "cell_type": "code",
   "execution_count": 4,
   "metadata": {},
   "outputs": [],
   "source": [
    "a = [i for i in range(1,451,50)]"
   ]
  },
  {
   "cell_type": "code",
   "execution_count": 5,
   "metadata": {},
   "outputs": [],
   "source": [
    "c = [urls[i] for i in a]"
   ]
  },
  {
   "cell_type": "code",
   "execution_count": 6,
   "metadata": {},
   "outputs": [
    {
     "data": {
      "text/plain": [
       "['https://www.imdb.com/title/tt2386490',\n",
       " 'https://www.imdb.com/title/tt9271164',\n",
       " 'https://www.imdb.com/title/tt9389622',\n",
       " 'https://www.imdb.com/title/tt7662118',\n",
       " 'https://www.imdb.com/title/tt8764144',\n",
       " 'https://www.imdb.com/title/tt8442346',\n",
       " 'https://www.imdb.com/title/tt9553898',\n",
       " 'https://www.imdb.com/title/tt10468110',\n",
       " 'https://www.imdb.com/title/tt10777022']"
      ]
     },
     "execution_count": 6,
     "metadata": {},
     "output_type": "execute_result"
    }
   ],
   "source": [
    "c"
   ]
  },
  {
   "cell_type": "markdown",
   "metadata": {},
   "source": [
    "### Open each url to compare with first page of each test result "
   ]
  },
  {
   "cell_type": "code",
   "execution_count": 7,
   "metadata": {},
   "outputs": [],
   "source": [
    "import webbrowser"
   ]
  },
  {
   "cell_type": "code",
   "execution_count": 28,
   "metadata": {},
   "outputs": [],
   "source": [
    "for i in c:\n",
    "    webbrowser.open_new(i)"
   ]
  },
  {
   "cell_type": "code",
   "execution_count": 30,
   "metadata": {},
   "outputs": [
    {
     "data": {
      "text/plain": [
       "'https://www.imdb.com/title/tt5969180'"
      ]
     },
     "execution_count": 30,
     "metadata": {},
     "output_type": "execute_result"
    }
   ],
   "source": [
    "urls[49]"
   ]
  },
  {
   "cell_type": "markdown",
   "metadata": {},
   "source": [
    "### Problem seems to be on the first page. Will check those one by one to see what could be going wrong. "
   ]
  },
  {
   "cell_type": "code",
   "execution_count": 8,
   "metadata": {},
   "outputs": [],
   "source": [
    "e = [i for i in range(0,50)]"
   ]
  },
  {
   "cell_type": "code",
   "execution_count": 9,
   "metadata": {},
   "outputs": [],
   "source": [
    "f = [urls[i] for i in e]"
   ]
  },
  {
   "cell_type": "code",
   "execution_count": 10,
   "metadata": {},
   "outputs": [
    {
     "data": {
      "text/plain": [
       "50"
      ]
     },
     "execution_count": 10,
     "metadata": {},
     "output_type": "execute_result"
    }
   ],
   "source": [
    "len(f)"
   ]
  },
  {
   "cell_type": "code",
   "execution_count": 36,
   "metadata": {},
   "outputs": [],
   "source": [
    "for i in f:\n",
    "    webbrowser.open_new_tab(i)"
   ]
  },
  {
   "cell_type": "code",
   "execution_count": 11,
   "metadata": {},
   "outputs": [
    {
     "data": {
      "text/plain": [
       "'https://www.imdb.com/title/tt3038708'"
      ]
     },
     "execution_count": 11,
     "metadata": {},
     "output_type": "execute_result"
    }
   ],
   "source": [
    "f[3]"
   ]
  },
  {
   "cell_type": "markdown",
   "metadata": {},
   "source": [
    "### Problem seems to be at index 4: the movie 'Iron Sky' opens two urls, one for a previous version and one for the new version. I.e. one is completely out of scope from the query. I need to find that specific tag and figure out what the difference with it is.\n"
   ]
  },
  {
   "cell_type": "code",
   "execution_count": 12,
   "metadata": {},
   "outputs": [],
   "source": [
    "url = 'https://www.imdb.com/search/title/?title_type=feature&release_date=2019-01-01,2019-01-24'"
   ]
  },
  {
   "cell_type": "code",
   "execution_count": 13,
   "metadata": {},
   "outputs": [],
   "source": [
    "resp = urllib.request.urlopen(url)\n",
    "soup = BeautifulSoup(resp, 'html.parser')\n",
    "links = [a.get('href') for a in soup.find_all('a', href=True)]\n",
    "pot_list = []\n",
    "for link in links:\n",
    "    if 'title/tt' in link:\n",
    "        pot_list.append(link)"
   ]
  },
  {
   "cell_type": "code",
   "execution_count": 14,
   "metadata": {},
   "outputs": [
    {
     "data": {
      "text/plain": [
       "['/title/tt6823368/',\n",
       " '/title/tt6823368/',\n",
       " '/title/tt6823368/vote?v=X;k=',\n",
       " '/title/tt2386490/',\n",
       " '/title/tt2386490/',\n",
       " '/title/tt2386490/vote?v=X;k=',\n",
       " '/title/tt6476140/',\n",
       " '/title/tt6476140/',\n",
       " '/title/tt6476140/vote?v=X;k=',\n",
       " '/title/tt3038708/',\n",
       " '/title/tt3038708/',\n",
       " '/title/tt3038708/vote?v=X;k=',\n",
       " '/title/tt1034314',\n",
       " '/title/tt5886046/',\n",
       " '/title/tt5886046/',\n",
       " '/title/tt5886046/vote?v=X;k=',\n",
       " '/title/tt7985692/',\n",
       " '/title/tt7985692/',\n",
       " '/title/tt7985692/vote?v=X;k=',\n",
       " '/title/tt6811018/',\n",
       " '/title/tt6811018/',\n",
       " '/title/tt6811018/vote?v=X;k=',\n",
       " '/title/tt7458762/',\n",
       " '/title/tt7458762/',\n",
       " '/title/tt7458762/vote?v=X;k=',\n",
       " '/title/tt7634968/',\n",
       " '/title/tt7634968/',\n",
       " '/title/tt7634968/vote?v=X;k=',\n",
       " '/title/tt5598292/',\n",
       " '/title/tt5598292/',\n",
       " '/title/tt5598292/vote?v=X;k=',\n",
       " '/title/tt7616798/',\n",
       " '/title/tt7616798/',\n",
       " '/title/tt7616798/vote?v=X;k=',\n",
       " '/title/tt6563576/',\n",
       " '/title/tt6563576/',\n",
       " '/title/tt6563576/vote?v=X;k=',\n",
       " '/title/tt9288776/',\n",
       " '/title/tt9288776/',\n",
       " '/title/tt9288776/vote?v=X;k=',\n",
       " '/title/tt3256226/',\n",
       " '/title/tt3256226/',\n",
       " '/title/tt3256226/vote?v=X;k=',\n",
       " '/title/tt5316540/',\n",
       " '/title/tt5316540/',\n",
       " '/title/tt5316540/vote?v=X;k=',\n",
       " '/title/tt7222228/',\n",
       " '/title/tt7222228/',\n",
       " '/title/tt7222228/vote?v=X;k=',\n",
       " '/title/tt7831358/',\n",
       " '/title/tt7831358/',\n",
       " '/title/tt7831358/vote?v=X;k=',\n",
       " '/title/tt7524414/',\n",
       " '/title/tt7524414/',\n",
       " '/title/tt7524414/vote?v=X;k=',\n",
       " '/title/tt8291224/',\n",
       " '/title/tt8291224/',\n",
       " '/title/tt8291224/vote?v=X;k=',\n",
       " '/title/tt4169146/',\n",
       " '/title/tt4169146/',\n",
       " '/title/tt4169146/vote?v=X;k=',\n",
       " '/title/tt6566768/',\n",
       " '/title/tt6566768/',\n",
       " '/title/tt6566768/vote?v=X;k=',\n",
       " '/title/tt8265928/',\n",
       " '/title/tt8265928/',\n",
       " '/title/tt8265928/vote?v=X;k=',\n",
       " '/title/tt4157728/',\n",
       " '/title/tt4157728/',\n",
       " '/title/tt4157728/vote?v=X;k=',\n",
       " '/title/tt6918220/',\n",
       " '/title/tt6918220/',\n",
       " '/title/tt6918220/vote?v=X;k=',\n",
       " '/title/tt6918220/plotsummary',\n",
       " '/title/tt7167686/',\n",
       " '/title/tt7167686/',\n",
       " '/title/tt7167686/vote?v=X;k=',\n",
       " '/title/tt6269942/',\n",
       " '/title/tt6269942/',\n",
       " '/title/tt6269942/vote?v=X;k=',\n",
       " '/title/tt3340446/',\n",
       " '/title/tt3340446/',\n",
       " '/title/tt3340446/vote?v=X;k=',\n",
       " '/title/tt8975028/',\n",
       " '/title/tt8975028/',\n",
       " '/title/tt8975028/vote?v=X;k=',\n",
       " '/title/tt9541602/',\n",
       " '/title/tt9541602/',\n",
       " '/title/tt9541602/vote?v=X;k=',\n",
       " '/title/tt1754316/',\n",
       " '/title/tt1754316/',\n",
       " '/title/tt1754316/vote?v=X;k=',\n",
       " '/title/tt7427356/',\n",
       " '/title/tt7427356/',\n",
       " '/title/tt7427356/vote?v=X;k=',\n",
       " '/title/tt6556670/',\n",
       " '/title/tt6556670/',\n",
       " '/title/tt6556670/vote?v=X;k=',\n",
       " '/title/tt8800266/',\n",
       " '/title/tt8800266/',\n",
       " '/title/tt8800266/vote?v=X;k=',\n",
       " '/title/tt6840554/',\n",
       " '/title/tt6840554/',\n",
       " '/title/tt6840554/vote?v=X;k=',\n",
       " '/title/tt6903440/',\n",
       " '/title/tt6903440/',\n",
       " '/title/tt6903440/vote?v=X;k=',\n",
       " '/title/tt8385420/',\n",
       " '/title/tt8385420/',\n",
       " '/title/tt8385420/vote?v=X;k=',\n",
       " '/title/tt8361196/',\n",
       " '/title/tt8361196/',\n",
       " '/title/tt8361196/vote?v=X;k=',\n",
       " '/title/tt6836462/',\n",
       " '/title/tt6836462/',\n",
       " '/title/tt6836462/vote?v=X;k=',\n",
       " '/title/tt6836462/plotsummary',\n",
       " '/title/tt3813094/',\n",
       " '/title/tt3813094/',\n",
       " '/title/tt3813094/vote?v=X;k=',\n",
       " '/title/tt9616786/',\n",
       " '/title/tt9616786/',\n",
       " '/title/tt9616786/vote?v=X;k=',\n",
       " '/title/tt3246874/',\n",
       " '/title/tt3246874/',\n",
       " '/title/tt3246874/vote?v=X;k=',\n",
       " '/title/tt1650060/',\n",
       " '/title/tt1650060/',\n",
       " '/title/tt1650060/vote?v=X;k=',\n",
       " '/title/tt8108208/',\n",
       " '/title/tt8108208/',\n",
       " '/title/tt8108208/vote?v=X;k=',\n",
       " '/title/tt8108208/plotsummary',\n",
       " '/title/tt6869362/',\n",
       " '/title/tt6869362/',\n",
       " '/title/tt6869362/vote?v=X;k=',\n",
       " '/title/tt8091892/',\n",
       " '/title/tt8091892/',\n",
       " '/title/tt8091892/vote?v=X;k=',\n",
       " '/title/tt8091892/plotsummary',\n",
       " '/title/tt8663446/',\n",
       " '/title/tt8663446/',\n",
       " '/title/tt8663446/vote?v=X;k=',\n",
       " '/title/tt7334342/',\n",
       " '/title/tt7334342/',\n",
       " '/title/tt7334342/vote?v=X;k=',\n",
       " '/title/tt3737840/',\n",
       " '/title/tt3737840/',\n",
       " '/title/tt3737840/vote?v=X;k=',\n",
       " '/title/tt5969180/',\n",
       " '/title/tt5969180/',\n",
       " '/title/tt5969180/vote?v=X;k=',\n",
       " '/title/tt9759978/',\n",
       " '/title/tt9759978/',\n",
       " '/title/tt9759978/vote?v=X;k=']"
      ]
     },
     "execution_count": 14,
     "metadata": {},
     "output_type": "execute_result"
    }
   ],
   "source": [
    "pot_list"
   ]
  },
  {
   "cell_type": "markdown",
   "metadata": {},
   "source": [
    "### From the list above, it looks like movies that have a 'prequel' displays both entries, but only need the one. The entry that isn't actually part of the search only comes up once, so will set conditionals."
   ]
  },
  {
   "cell_type": "code",
   "execution_count": 15,
   "metadata": {},
   "outputs": [
    {
     "data": {
      "text/plain": [
       "['', 'title', 'tt6823368', 'vote?v=X;k=']"
      ]
     },
     "execution_count": 15,
     "metadata": {},
     "output_type": "execute_result"
    }
   ],
   "source": [
    "pot_list[2].split('/')"
   ]
  },
  {
   "cell_type": "markdown",
   "metadata": {},
   "source": [
    "### Run final test on two different searches to confirm that it is running correctly."
   ]
  },
  {
   "cell_type": "code",
   "execution_count": 17,
   "metadata": {},
   "outputs": [
    {
     "name": "stdout",
     "output_type": "stream",
     "text": [
      "1043\n",
      "Running query from 1 to 50\n",
      "Running query from 51 to 100\n",
      "Running query from 101 to 150\n",
      "Running query from 151 to 200\n",
      "Running query from 201 to 250\n",
      "Running query from 251 to 300\n",
      "Running query from 301 to 350\n",
      "Running query from 351 to 400\n",
      "Running query from 401 to 450\n",
      "Running query from 451 to 500\n",
      "Running query from 501 to 550\n",
      "Running query from 551 to 600\n",
      "Running query from 601 to 650\n",
      "Running query from 651 to 700\n",
      "Running query from 701 to 750\n",
      "Running query from 751 to 800\n",
      "Running query from 801 to 850\n",
      "Running query from 851 to 900\n",
      "Running query from 901 to 950\n",
      "Running query from 951 to 1000\n",
      "Running query from 1001 to 1050\n",
      "All urls have been extracted successfully\n"
     ]
    }
   ],
   "source": [
    "urls_1 = url_extractor('https://www.imdb.com/search/title/?title_type=feature&release_date=2011-09-12,2012-11-28&genres=action')"
   ]
  },
  {
   "cell_type": "code",
   "execution_count": 18,
   "metadata": {},
   "outputs": [
    {
     "name": "stdout",
     "output_type": "stream",
     "text": [
      "1222\n",
      "Running query from 1 to 50\n",
      "Running query from 51 to 100\n",
      "Running query from 101 to 150\n",
      "Running query from 151 to 200\n",
      "Running query from 201 to 250\n",
      "Running query from 251 to 300\n",
      "Running query from 301 to 350\n",
      "Running query from 351 to 400\n",
      "Running query from 401 to 450\n",
      "Running query from 451 to 500\n",
      "Running query from 501 to 550\n",
      "Running query from 551 to 600\n",
      "Running query from 601 to 650\n",
      "Running query from 651 to 700\n",
      "Running query from 701 to 750\n",
      "Running query from 751 to 800\n",
      "Running query from 801 to 850\n",
      "Running query from 851 to 900\n",
      "Running query from 901 to 950\n",
      "Running query from 951 to 1000\n",
      "Running query from 1001 to 1050\n",
      "Running query from 1051 to 1100\n",
      "Running query from 1101 to 1150\n",
      "Running query from 1151 to 1200\n",
      "Running query from 1201 to 1250\n",
      "All urls have been extracted successfully\n"
     ]
    }
   ],
   "source": [
    "urls_2 = url_extractor('https://www.imdb.com/search/title/?title_type=feature&release_date=2011-01-01,2012-11-28&genres=comedy,drama')"
   ]
  },
  {
   "cell_type": "code",
   "execution_count": null,
   "metadata": {},
   "outputs": [],
   "source": []
  }
 ],
 "metadata": {
  "kernelspec": {
   "display_name": "Python 3",
   "language": "python",
   "name": "python3"
  },
  "language_info": {
   "codemirror_mode": {
    "name": "ipython",
    "version": 3
   },
   "file_extension": ".py",
   "mimetype": "text/x-python",
   "name": "python",
   "nbconvert_exporter": "python",
   "pygments_lexer": "ipython3",
   "version": "3.7.3"
  }
 },
 "nbformat": 4,
 "nbformat_minor": 2
}
