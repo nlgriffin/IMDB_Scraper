{
 "cells": [
  {
   "cell_type": "markdown",
   "metadata": {},
   "source": [
    "## Beautiful Soup"
   ]
  },
  {
   "cell_type": "code",
   "execution_count": 11,
   "metadata": {},
   "outputs": [],
   "source": [
    "import numpy as np\n",
    "import pandas as pd\n",
    "import requests as rs\n",
    "from bs4 import BeautifulSoup "
   ]
  },
  {
   "cell_type": "markdown",
   "metadata": {},
   "source": [
    "#### Importing a page"
   ]
  },
  {
   "cell_type": "code",
   "execution_count": 12,
   "metadata": {},
   "outputs": [
    {
     "data": {
      "text/plain": [
       "<Response [200]>"
      ]
     },
     "execution_count": 12,
     "metadata": {},
     "output_type": "execute_result"
    }
   ],
   "source": [
    "page = rs.get(\"https://www.imdb.com/title/tt0110912/?ref_=nv_sr_srsg_0\")\n",
    "page\n",
    "\n",
    "## Response [200] indicates a success"
   ]
  },
  {
   "cell_type": "code",
   "execution_count": 13,
   "metadata": {},
   "outputs": [
    {
     "data": {
      "text/plain": [
       "200"
      ]
     },
     "execution_count": 13,
     "metadata": {},
     "output_type": "execute_result"
    }
   ],
   "source": [
    "page.status_code"
   ]
  },
  {
   "cell_type": "code",
   "execution_count": 14,
   "metadata": {},
   "outputs": [],
   "source": [
    "# prints thecontents of the webpage\n",
    "\n",
    "# page.content"
   ]
  },
  {
   "cell_type": "code",
   "execution_count": 15,
   "metadata": {},
   "outputs": [],
   "source": [
    "soup = BeautifulSoup(page.content, 'html.parser')"
   ]
  },
  {
   "cell_type": "code",
   "execution_count": 26,
   "metadata": {},
   "outputs": [],
   "source": [
    "# make a list of all elements at the top level of page\n",
    "list(soup.children);"
   ]
  },
  {
   "cell_type": "code",
   "execution_count": 33,
   "metadata": {},
   "outputs": [],
   "source": [
    "html = list(soup.children)[3]"
   ]
  },
  {
   "cell_type": "code",
   "execution_count": 37,
   "metadata": {},
   "outputs": [],
   "source": [
    "body = list(html.children)[3]"
   ]
  },
  {
   "cell_type": "code",
   "execution_count": 45,
   "metadata": {},
   "outputs": [
    {
     "data": {
      "text/plain": [
       "<script type=\"application/ld+json\">{\n",
       "  \"@context\": \"http://schema.org\",\n",
       "  \"@type\": \"Movie\",\n",
       "  \"url\": \"/title/tt0110912/\",\n",
       "  \"name\": \"Pulp Fiction\",\n",
       "  \"image\": \"https://m.media-amazon.com/images/M/MV5BNGNhMDIzZTUtNTBlZi00MTRlLWFjM2ItYzViMjE3YzI5MjljXkEyXkFqcGdeQXVyNzkwMjQ5NzM@._V1_.jpg\",\n",
       "  \"genre\": [\n",
       "    \"Crime\",\n",
       "    \"Drama\"\n",
       "  ],\n",
       "  \"contentRating\": \"R\",\n",
       "  \"actor\": [\n",
       "    {\n",
       "      \"@type\": \"Person\",\n",
       "      \"url\": \"/name/nm0000237/\",\n",
       "      \"name\": \"John Travolta\"\n",
       "    },\n",
       "    {\n",
       "      \"@type\": \"Person\",\n",
       "      \"url\": \"/name/nm0000235/\",\n",
       "      \"name\": \"Uma Thurman\"\n",
       "    },\n",
       "    {\n",
       "      \"@type\": \"Person\",\n",
       "      \"url\": \"/name/nm0000168/\",\n",
       "      \"name\": \"Samuel L. Jackson\"\n",
       "    },\n",
       "    {\n",
       "      \"@type\": \"Person\",\n",
       "      \"url\": \"/name/nm0000246/\",\n",
       "      \"name\": \"Bruce Willis\"\n",
       "    }\n",
       "  ],\n",
       "  \"director\": {\n",
       "    \"@type\": \"Person\",\n",
       "    \"url\": \"/name/nm0000233/\",\n",
       "    \"name\": \"Quentin Tarantino\"\n",
       "  },\n",
       "  \"creator\": [\n",
       "    {\n",
       "      \"@type\": \"Person\",\n",
       "      \"url\": \"/name/nm0000233/\",\n",
       "      \"name\": \"Quentin Tarantino\"\n",
       "    },\n",
       "    {\n",
       "      \"@type\": \"Person\",\n",
       "      \"url\": \"/name/nm0000812/\",\n",
       "      \"name\": \"Roger Avary\"\n",
       "    },\n",
       "    {\n",
       "      \"@type\": \"Person\",\n",
       "      \"url\": \"/name/nm0000233/\",\n",
       "      \"name\": \"Quentin Tarantino\"\n",
       "    },\n",
       "    {\n",
       "      \"@type\": \"Organization\",\n",
       "      \"url\": \"/company/co0022594/\"\n",
       "    },\n",
       "    {\n",
       "      \"@type\": \"Organization\",\n",
       "      \"url\": \"/company/co0019267/\"\n",
       "    },\n",
       "    {\n",
       "      \"@type\": \"Organization\",\n",
       "      \"url\": \"/company/co0010434/\"\n",
       "    }\n",
       "  ],\n",
       "  \"description\": \"Pulp Fiction is a movie starring John Travolta, Uma Thurman, and Samuel L. Jackson. The lives of two mob hitmen, a boxer, a gangster and his wife, and a pair of diner bandits intertwine in four tales of violence and redemption.\",\n",
       "  \"datePublished\": \"1994-09-10\",\n",
       "  \"keywords\": \"nonlinear timeline,overdose,drug overdose,black comedy,bondage\",\n",
       "  \"aggregateRating\": {\n",
       "    \"@type\": \"AggregateRating\",\n",
       "    \"ratingCount\": 1697142,\n",
       "    \"bestRating\": \"10.0\",\n",
       "    \"worstRating\": \"1.0\",\n",
       "    \"ratingValue\": \"8.9\"\n",
       "  },\n",
       "  \"review\": {\n",
       "    \"@type\": \"Review\",\n",
       "    \"itemReviewed\": {\n",
       "      \"@type\": \"CreativeWork\",\n",
       "      \"url\": \"/title/tt0110912/\"\n",
       "    },\n",
       "    \"author\": {\n",
       "      \"@type\": \"Person\",\n",
       "      \"name\": \"discoelephant64\"\n",
       "    },\n",
       "    \"dateCreated\": \"2005-01-19\",\n",
       "    \"inLanguage\": \"English\",\n",
       "    \"name\": \"Unbelievable.\",\n",
       "    \"reviewBody\": \"Pulp Fiction may be the single best film ever made, and quite appropriately it is by one of the most creative directors of all time, Quentin Tarantino. This movie is amazing from the beginning definition of pulp to the end credits and boasts one of the best casts ever assembled with the likes of Bruce Willis, Samuel L. Jackson, John Travolta, Uma Thurman, Harvey Keitel, Tim Roth and Christopher Walken. The dialog is surprisingly humorous for this type of film, and I think that\\u0027s what has made it so successful. Wrongfully denied the many Oscars it was nominated for, Pulp Fiction is by far the best film of the 90s and no Tarantino film has surpassed the quality of this movie (although Kill Bill came close). As far as I\\u0027m concerned this is the top film of all-time and definitely deserves a watch if you haven\\u0027t seen it.\",\n",
       "    \"reviewRating\": {\n",
       "      \"@type\": \"Rating\",\n",
       "      \"worstRating\": \"1\",\n",
       "      \"bestRating\": \"10\",\n",
       "      \"ratingValue\": \"10\"\n",
       "    }\n",
       "  },\n",
       "  \"duration\": \"PT2H34M\",\n",
       "  \"trailer\": {\n",
       "    \"@type\": \"VideoObject\",\n",
       "    \"name\": \"Official Trailer\",\n",
       "    \"embedUrl\": \"/video/imdb/vi2620371481\",\n",
       "    \"thumbnail\": {\n",
       "      \"@type\": \"ImageObject\",\n",
       "      \"contentUrl\": \"https://m.media-amazon.com/images/M/MV5BMjI5MzgxMTQ4M15BMl5BanBnXkFtZTgwNjczMTk0NzE@._V1_.jpg\"\n",
       "    },\n",
       "    \"thumbnailUrl\": \"https://m.media-amazon.com/images/M/MV5BMjI5MzgxMTQ4M15BMl5BanBnXkFtZTgwNjczMTk0NzE@._V1_.jpg\",\n",
       "    \"description\": \"The lives of two mob hit men, a boxer, a gangster\\u0027s wife, and a pair of diner bandits intertwine in four tales of violence and redemption.\",\n",
       "    \"uploadDate\": \"2015-12-16T10:51:07Z\"\n",
       "  }\n",
       "}</script>"
      ]
     },
     "execution_count": 45,
     "metadata": {},
     "output_type": "execute_result"
    }
   ],
   "source": [
    "# return all the objects with a specific tag\n",
    "\n",
    "soup.find_all('script')[12]"
   ]
  },
  {
   "cell_type": "code",
   "execution_count": 47,
   "metadata": {},
   "outputs": [
    {
     "data": {
      "text/plain": [
       "200"
      ]
     },
     "execution_count": 47,
     "metadata": {},
     "output_type": "execute_result"
    }
   ],
   "source": [
    "page2 = rs.get(\"https://www.imdb.com/title/tt0107290/?ref_=nv_sr_srsg_0\")\n",
    "page2.status_code"
   ]
  },
  {
   "cell_type": "code",
   "execution_count": 48,
   "metadata": {},
   "outputs": [],
   "source": [
    "soup2 = BeautifulSoup(page2.content, 'html.parser')"
   ]
  },
  {
   "cell_type": "code",
   "execution_count": 49,
   "metadata": {},
   "outputs": [],
   "source": [
    "html2 = list(soup.children)[3]\n",
    "body2 = list(html.children)[3]"
   ]
  },
  {
   "cell_type": "code",
   "execution_count": 63,
   "metadata": {},
   "outputs": [
    {
     "data": {
      "text/plain": [
       "<script type=\"application/ld+json\">{\n",
       "  \"@context\": \"http://schema.org\",\n",
       "  \"@type\": \"Movie\",\n",
       "  \"url\": \"/title/tt0107290/\",\n",
       "  \"name\": \"Jurassic Park\",\n",
       "  \"image\": \"https://m.media-amazon.com/images/M/MV5BMjM2MDgxMDg0Nl5BMl5BanBnXkFtZTgwNTM2OTM5NDE@._V1_.jpg\",\n",
       "  \"genre\": [\n",
       "    \"Action\",\n",
       "    \"Adventure\",\n",
       "    \"Sci-Fi\",\n",
       "    \"Thriller\"\n",
       "  ],\n",
       "  \"contentRating\": \"PG-13\",\n",
       "  \"actor\": [\n",
       "    {\n",
       "      \"@type\": \"Person\",\n",
       "      \"url\": \"/name/nm0000554/\",\n",
       "      \"name\": \"Sam Neill\"\n",
       "    },\n",
       "    {\n",
       "      \"@type\": \"Person\",\n",
       "      \"url\": \"/name/nm0000368/\",\n",
       "      \"name\": \"Laura Dern\"\n",
       "    },\n",
       "    {\n",
       "      \"@type\": \"Person\",\n",
       "      \"url\": \"/name/nm0000156/\",\n",
       "      \"name\": \"Jeff Goldblum\"\n",
       "    },\n",
       "    {\n",
       "      \"@type\": \"Person\",\n",
       "      \"url\": \"/name/nm0000277/\",\n",
       "      \"name\": \"Richard Attenborough\"\n",
       "    }\n",
       "  ],\n",
       "  \"director\": {\n",
       "    \"@type\": \"Person\",\n",
       "    \"url\": \"/name/nm0000229/\",\n",
       "    \"name\": \"Steven Spielberg\"\n",
       "  },\n",
       "  \"creator\": [\n",
       "    {\n",
       "      \"@type\": \"Person\",\n",
       "      \"url\": \"/name/nm0000341/\",\n",
       "      \"name\": \"Michael Crichton\"\n",
       "    },\n",
       "    {\n",
       "      \"@type\": \"Person\",\n",
       "      \"url\": \"/name/nm0000341/\",\n",
       "      \"name\": \"Michael Crichton\"\n",
       "    },\n",
       "    {\n",
       "      \"@type\": \"Person\",\n",
       "      \"url\": \"/name/nm0462895/\",\n",
       "      \"name\": \"David Koepp\"\n",
       "    },\n",
       "    {\n",
       "      \"@type\": \"Organization\",\n",
       "      \"url\": \"/company/co0005073/\"\n",
       "    },\n",
       "    {\n",
       "      \"@type\": \"Organization\",\n",
       "      \"url\": \"/company/co0009119/\"\n",
       "    }\n",
       "  ],\n",
       "  \"description\": \"Jurassic Park is a movie starring Sam Neill, Laura Dern, and Jeff Goldblum. A pragmatic Paleontologist visiting an almost complete theme park is tasked with protecting a couple of kids after a power failure causes the park\\u0027s cloned...\",\n",
       "  \"datePublished\": \"1993-06-11\",\n",
       "  \"keywords\": \"dinosaur,theme park,tyrannosaurus rex,chaos theory,paleontology\",\n",
       "  \"aggregateRating\": {\n",
       "    \"@type\": \"AggregateRating\",\n",
       "    \"ratingCount\": 803528,\n",
       "    \"bestRating\": \"10.0\",\n",
       "    \"worstRating\": \"1.0\",\n",
       "    \"ratingValue\": \"8.1\"\n",
       "  },\n",
       "  \"review\": {\n",
       "    \"@type\": \"Review\",\n",
       "    \"itemReviewed\": {\n",
       "      \"@type\": \"CreativeWork\",\n",
       "      \"url\": \"/title/tt0107290/\"\n",
       "    },\n",
       "    \"author\": {\n",
       "      \"@type\": \"Person\",\n",
       "      \"name\": \"MichaelM24\"\n",
       "    },\n",
       "    \"dateCreated\": \"2001-07-06\",\n",
       "    \"inLanguage\": \"English\",\n",
       "    \"name\": \"exciting\",\n",
       "    \"reviewBody\": \"JURASSIC PARK was the film that ignited my interest in filmmaking and drove me to get a degree in it, so I will always have a soft spot for it. I was eleven when I read the book, but all the technical stuff lost me and I never finished it. A couple years later when I heard the movie was coming out, I decided I would just see it instead. With advance tickets selling out fast, my mom was lucky enough to get some a few days before it\\u0027s premiere. We stood in line for roughly thirty minutes before we finally got in. Even as the lights were dimming, I still had no idea what to expect. Within moments I was glued to my seat. The opening sequences remains one of my favorite scenes in any film and continues to give me goosebumps to this day. For the next two hours, I sat in my seat just staring at the screen as these marvelous, life-like creatures that were unlike anything I had ever seen before. The film was full of awe and scares. I walked out of the theater virtually trying to catch my breath. What a thrill ride the film had been, and I eventually went back and saw it a few more times. The film was a turning point in my life, as I said, because I walked out saying to myself, \\\"That\\u0027s what I want to do.\\\" Sure the characters aren\\u0027t deep and the dialogue isn\\u0027t great, but who cares when the film is this entertaining? The actors are good in their parts, especially the always great Sam Neill, and the dinosaurs are incredibly life-like. The action is great, and the pacing (after a slow start) is relentless. The film has a few continuity flaws, but none of them matter. This film is great entertainment.\"\n",
       "  },\n",
       "  \"duration\": \"PT2H7M\",\n",
       "  \"trailer\": {\n",
       "    \"@type\": \"VideoObject\",\n",
       "    \"name\": \"3D Re-Release Version\",\n",
       "    \"embedUrl\": \"/video/imdb/vi177055257\",\n",
       "    \"thumbnail\": {\n",
       "      \"@type\": \"ImageObject\",\n",
       "      \"contentUrl\": \"https://m.media-amazon.com/images/M/MV5BMjE2NzI2MTg2Ml5BMl5BanBnXkFtZTgwMzc2MzIyMzE@._V1_.jpg\"\n",
       "    },\n",
       "    \"thumbnailUrl\": \"https://m.media-amazon.com/images/M/MV5BMjE2NzI2MTg2Ml5BMl5BanBnXkFtZTgwMzc2MzIyMzE@._V1_.jpg\",\n",
       "    \"description\": \"During a preview tour, a theme park suffers a major power breakdown that allows its cloned dinosaur exhibits to run amok.\",\n",
       "    \"uploadDate\": \"2013-03-27T12:42:02Z\"\n",
       "  }\n",
       "}</script>"
      ]
     },
     "execution_count": 63,
     "metadata": {},
     "output_type": "execute_result"
    }
   ],
   "source": [
    "soup2.find_all('script')[12]"
   ]
  },
  {
   "cell_type": "code",
   "execution_count": null,
   "metadata": {},
   "outputs": [],
   "source": []
  }
 ],
 "metadata": {
  "kernelspec": {
   "display_name": "Python 3",
   "language": "python",
   "name": "python3"
  },
  "language_info": {
   "codemirror_mode": {
    "name": "ipython",
    "version": 3
   },
   "file_extension": ".py",
   "mimetype": "text/x-python",
   "name": "python",
   "nbconvert_exporter": "python",
   "pygments_lexer": "ipython3",
   "version": "3.7.3"
  }
 },
 "nbformat": 4,
 "nbformat_minor": 4
}
